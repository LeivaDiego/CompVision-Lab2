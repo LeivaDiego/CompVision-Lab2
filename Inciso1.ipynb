{
 "cells": [
  {
   "cell_type": "markdown",
   "metadata": {},
   "source": [
    "### Laboratorio No. 2"
   ]
  },
  {
   "cell_type": "markdown",
   "metadata": {},
   "source": [
    "##### Inciso 1"
   ]
  },
  {
   "cell_type": "markdown",
   "metadata": {},
   "source": [
    "En este lab trabajaremos operadores morfológicos en im´agenes binarias y escala de grises. Para referencia, revisar el capítulo 9 del\n",
    "libro Digital Image Processing de González y Woods.\n"
   ]
  },
  {
   "cell_type": "markdown",
   "metadata": {},
   "source": [
    "1. Leer la sección 9.4 sobre el operador Hit or Miss. Explicar con sus propias palabras cómo funciona este operador, y cómo se\n",
    "construye la operación A ∗ B a partir de las operaciones básicas de dilatación, erosión, opening, closing y diferencia."
   ]
  },
  {
   "cell_type": "markdown",
   "metadata": {},
   "source": [
    "**Hit or Miss**\n",
    "- El operador Hit or Miss es una herramienta en la morfología matemática que nos puede servir a la hora de querer identificar patrones específicos en imágenes binarias, porque busca coincidencias exactas entre una configuración definida por un elemento estructurante y las estructuras presentes en la imagen.\n",
    "\n",
    "**¿Cómo Funciona?**\n",
    "- Supongamos que tenemos una imagen binaria y queremos encontrar una forma particular en la misma. Para eso, usaríamos un elemento estructurante que representa la forma que estamos buscando. Este elemento se compone de dos partes:\n",
    "\n",
    "1. **Parte que debe coincidir con el objeto:** Define la forma que quieres detectar.\n",
    "2. **Parte que debe coincidir con el fondo:** Especifica el área que debe estar ausente alrededor de la forma.\n",
    "\n",
    "- El operador Hit or Miss verifica simultáneamente si la primera parte encaja con el objeto y la segunda con el fondo. Si ambas condiciones se cumplen en una posición específica, se considera una coincidencia.\n",
    "\n",
    "**Construcción de A * B usando operaciones básicas**\n",
    "- Para construir la operación \"A * B\" a partir de operaciones morfológicas básicas, seguimos estos pasos:\n",
    "\n",
    "**1. Erosión del objeto:** Aplicamos una erosión a la imagen A utilizando la parte del elemento estructurante que corresponde al objeto. Esto identifica las áreas donde el objeto encaja perfectamente con la forma deseada.\n",
    "\n",
    "**2. Erosión del fondo:** Aplicamos una erosión al complemento de A (es decir, donde antes había fondo ahora hay objeto y viceversa) utilizando la parte del elemento estructurante que corresponde al fondo. Esto asegura que alrededor del objeto detectado haya fondo, según lo especificado.\n",
    "\n",
    "**3. Intersección de resultados:** Finalmente, tomamos la intersección de los resultados de las dos erosiones anteriores. Las posiciones donde ambas condiciones se cumplen simultáneamente indican la presencia exacta del patrón buscado.\n",
    "\n",
    "- - -"
   ]
  },
  {
   "cell_type": "markdown",
   "metadata": {},
   "source": [
    "##### Inciso 1.1"
   ]
  },
  {
   "cell_type": "markdown",
   "metadata": {},
   "source": [
    "Mostrar un ejemplo con una imagen binaria de su elección en donde se muestre que el operador Hit or Miss detecta la localización de uno (o varios) objetos específicos dentro de una imagen binaria I."
   ]
  },
  {
   "cell_type": "code",
   "execution_count": 219,
   "metadata": {},
   "outputs": [
    {
     "data": {
      "image/png": "[encoded data removed]",
      "text/plain": [
       "<Figure size 1500x500 with 3 Axes>"
      ]
     },
     "metadata": {},
     "output_type": "display_data"
    }
   ],
   "source": [
    "import cv2 as cv\n",
    "import numpy as np\n",
    "import matplotlib.pyplot as plt\n",
    "\n",
    "# Crear un tablero binario con cuadros blancos distribuidos aleatoriamente\n",
    "def crear_tablero_aleatorio_sin_tocar(tamaño, casilla, num_cuadros, espacio):\n",
    "    tablero = np.zeros((tamaño, tamaño), dtype=np.uint8)\n",
    "    for _ in range(num_cuadros):\n",
    "        while True:\n",
    "            x = np.random.randint(0, tamaño - casilla)\n",
    "            y = np.random.randint(0, tamaño - casilla)\n",
    "            if np.all(tablero[x:x+casilla, y:y+casilla] == 0):\n",
    "                tablero[x:x+casilla, y:y+casilla] = 255\n",
    "                break\n",
    "            else:\n",
    "                continue\n",
    "    return tablero\n",
    "\n",
    "# Dimensiones del tablero\n",
    "tamaño_tablero = 64  \n",
    "tamaño_casilla = 10  \n",
    "num_cuadros = 10 \n",
    "espacio = 1  \n",
    "\n",
    "# Crear tablero con cuadros blancos aleatorios\n",
    "tablero = crear_tablero_aleatorio_sin_tocar(tamaño_tablero, tamaño_casilla, num_cuadros, espacio)\n",
    "\n",
    "# Definir elemento estructurante \n",
    "S2 = np.array([\n",
    "    [0, 0, 0],\n",
    "    [0, -1, 0],\n",
    "    [0, 0, 0]\n",
    "], dtype=\"int\")\n",
    "\n",
    "# Aplicar el operador Hit-or-Miss con el elemento estructurante\n",
    "hit_or_miss_2 = cv.morphologyEx(tablero, cv.MORPH_HITMISS, S2)\n",
    "\n",
    "# Escalar el elemento estructurante para la visualización\n",
    "S2_visual = (S2 + 1) * 127\n",
    "S2_visual = np.uint8(S2_visual)\n",
    "\n",
    "# Mostrar el tablero original, el elemento estructurante y la imagen resultante\n",
    "plt.figure(figsize=(15, 5))\n",
    "\n",
    "# Tablero original\n",
    "plt.subplot(1, 3, 1)\n",
    "plt.title(\"Tablero Aleatorio \")\n",
    "plt.imshow(tablero, cmap='gray', vmin=0, vmax=255)\n",
    "plt.axis(\"off\")\n",
    "\n",
    "# Elemento estructurante\n",
    "plt.subplot(1, 3, 2)\n",
    "plt.title(\"Elemento Estructurante\")\n",
    "plt.imshow(S2_visual, cmap='gray', vmin=0, vmax=255)\n",
    "plt.axis(\"off\")\n",
    "\n",
    "# Imagen resultante\n",
    "plt.subplot(1, 3, 3)\n",
    "plt.title(\"Resultado Hit-or-Miss\")\n",
    "plt.imshow(hit_or_miss_2, cmap='gray', vmin=0, vmax=255)\n",
    "plt.axis(\"off\")\n",
    "\n",
    "plt.show()\n"
   ]
  }
 ],
 "metadata": {
  "kernelspec": {
   "display_name": "vision",
   "language": "python",
   "name": "python3"
  },
  "language_info": {
   "codemirror_mode": {
    "name": "ipython",
    "version": 3
   },
   "file_extension": ".py",
   "mimetype": "text/x-python",
   "name": "python",
   "nbconvert_exporter": "python",
   "pygments_lexer": "ipython3",
   "version": "3.13.2"
  }
 },
 "nbformat": 4,
 "nbformat_minor": 2
}
